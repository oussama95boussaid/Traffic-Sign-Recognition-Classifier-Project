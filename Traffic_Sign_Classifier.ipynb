{
  "cells": [
    {
      "cell_type": "markdown",
      "metadata": {
        "id": "3QfvAaEd4OmF"
      },
      "source": [
        "# **Load The Data** \n",
        "The pickled data is a dictionary with 4 key/value pairs:\n",
        "\n",
        "- **features** is a 4D array containing raw pixel data of the traffic sign images, (num examples, width, height, channels).\n",
        "- **labels** is a 1D array containing the label/class id of the traffic sign. The file signnames.csv contains id -> name mappings for each id.\n",
        "- **sizes** is a list containing tuples, (width, height) representing the original width and height the image.\n",
        "- **coords** is a list containing tuples, (x1, y1, x2, y2) representing coordinates of a bounding box around the sign in the image. \n",
        "\n",
        "**THESE COORDINATES ASSUME THE ORIGINAL IMAGE. THE PICKLED DATA CONTAINS RESIZED VERSIONS (32 by 32) OF THESE IMAGES**"
      ]
    },
    {
      "cell_type": "code",
      "execution_count": 1,
      "metadata": {
        "colab": {
          "base_uri": "https://localhost:8080/"
        },
        "id": "H5BwrvWrArq3",
        "outputId": "e8384521-1800-4966-f59c-0bc868fcc4ee"
      },
      "outputs": [
        {
          "output_type": "stream",
          "name": "stdout",
          "text": [
            "Done importing images.\n"
          ]
        }
      ],
      "source": [
        "import pandas as pd\n",
        "import numpy as np\n",
        "# Load pickled data\n",
        "import pickle\n",
        "import warnings\n",
        "warnings.filterwarnings('ignore')\n",
        "\n",
        "training_file = \"train.p\"\n",
        "validation_file=\"valid.p\"\n",
        "testing_file = \"test.p\"\n",
        "\n",
        "with open(training_file, mode='rb') as f:\n",
        "    train = pickle.load(f)\n",
        "with open(validation_file, mode='rb') as f:\n",
        "    valid = pickle.load(f)\n",
        "with open(testing_file, mode='rb') as f:\n",
        "    test = pickle.load(f)\n",
        "#print(train)\n",
        "X_train, y_train = train['features'], train['labels']\n",
        "X_valid, y_valid = valid['features'], valid['labels']\n",
        "X_test, y_test = test['features'], test['labels']\n",
        "# print(\"trainX\")\n",
        "# print(X_train[0:5])\n",
        "# print(\"$$$$$$$$$$$$\")\n",
        "# print(y_train)\n",
        "# print(\"$$$$$$$$$$$$\")\n",
        "train_sizes, train_coords = train['sizes'], train['coords']\n",
        "valid_sizes, valid_coords = valid['sizes'], valid['coords']\n",
        "test_sizes, test_coords = test['sizes'], test['coords']\n",
        "# print(\"$$$$$$$$$$$$\")\n",
        "# print(\"trainsize\")\n",
        "# print(train_sizes)\n",
        "# print(\"$$$$$$$$$$$$\")\n",
        "# print(\"train_coords\")\n",
        "# print(train_coords)\n",
        "print(\"Done importing images.\")\n"
      ]
    },
    {
      "cell_type": "markdown",
      "metadata": {
        "id": "X9LINNcB5FCr"
      },
      "source": [
        "# **Dataset Summary & Exploration**\n",
        "**Provide a Basic Summary of the Data Set Using Python, Numpy and/or Pandas**"
      ]
    },
    {
      "cell_type": "code",
      "source": [
        "# Number of training examples\n",
        "n_train = len(X_train)\n",
        "\n",
        "# Number of validation examples\n",
        "n_validation = len(X_valid)\n",
        "\n",
        "# Number of testing examples.\n",
        "n_test = len(X_test)\n",
        "\n",
        "# the shape of a traffic sign image\n",
        "image_shape = X_train[0].shape\n",
        "image_shape_with_n_train =  X_train.shape\n",
        "# numbre of classes/labels there are in the dataset.\n",
        "n_classes = len(pd.Series(y_train).unique())\n",
        "\n",
        "print(\"Number of training examples =\", n_train)\n",
        "print(\"Number of testing examples =\", n_test)\n",
        "print(\"Image data shape =\", image_shape)\n",
        "print(\"Number of classes =\", n_classes)"
      ],
      "metadata": {
        "colab": {
          "base_uri": "https://localhost:8080/"
        },
        "id": "9gCS_Zuhnxml",
        "outputId": "b9c5401d-19d1-4b0c-f0ef-20712cfa3e7a"
      },
      "execution_count": 2,
      "outputs": [
        {
          "output_type": "stream",
          "name": "stdout",
          "text": [
            "Number of training examples = 34799\n",
            "Number of testing examples = 12630\n",
            "Image data shape = (32, 32, 3)\n",
            "Number of classes = 43\n"
          ]
        }
      ]
    },
    {
      "cell_type": "markdown",
      "metadata": {
        "id": "LnUQ8q3Q4Jdm"
      },
      "source": [
        "# **Data exploration visualization.**\n",
        "Visualize the German Traffic Signs Dataset using the pickled file(s). This is open ended, suggestions include: plotting traffic sign images, plotting the count of each sign, etc."
      ]
    },
    {
      "cell_type": "code",
      "execution_count": 3,
      "metadata": {
        "id": "DnG0XWIoES4Z"
      },
      "outputs": [],
      "source": [
        "import matplotlib.pyplot as plt\n",
        "import seaborn as sns\n",
        "from collections import Counter\n",
        "from random import randint\n",
        "# Visualizations will be shown in the notebook.\n",
        "%matplotlib inline\n"
      ]
    },
    {
      "cell_type": "code",
      "source": [
        "#Load the signname csv file\n",
        "signnames = pd.read_csv('./signnames.csv')\n",
        "signnames.set_index('ClassId',inplace=True)\n",
        "\n",
        "def get_name_from_label(label):\n",
        "    # Helper, transofrm a numeric label into the corresponding strring\n",
        "    return signnames.loc[label].SignName"
      ],
      "metadata": {
        "id": "zm1LsXpsuDJG"
      },
      "execution_count": 4,
      "outputs": []
    },
    {
      "cell_type": "code",
      "execution_count": 5,
      "metadata": {
        "colab": {
          "base_uri": "https://localhost:8080/"
        },
        "id": "KJw4gy3wGdWZ",
        "outputId": "3021c550-d076-4659-cfae-804e4bf770ce"
      },
      "outputs": [
        {
          "output_type": "stream",
          "name": "stdout",
          "text": [
            "Train example per class mean 809 min 180 max 2010\n",
            "Most common signs:\n",
            "'Speed limit (50km/h)'  train samples: 2010\n",
            "'Speed limit (30km/h)'  train samples: 1980\n",
            "'Yield'  train samples: 1920\n",
            "'Priority road'  train samples: 1890\n",
            "'Keep right'  train samples: 1860\n",
            "'No passing for vehicles over 3.5 metric tons'  train samples: 1800\n",
            "'Speed limit (70km/h)'  train samples: 1770\n",
            "'Speed limit (80km/h)'  train samples: 1650\n",
            "'Road work'  train samples: 1350\n",
            "'No passing'  train samples: 1320\n",
            "\n",
            "Most rare signs:\n",
            "'Go straight or left'  train samples: 180\n",
            "'Dangerous curve to the left'  train samples: 180\n",
            "'Speed limit (20km/h)'  train samples: 180\n",
            "'End of no passing'  train samples: 210\n",
            "'End of no passing by vehicles over 3.5 metric tons'  train samples: 210\n",
            "'End of all speed and passing limits'  train samples: 210\n",
            "'Pedestrians'  train samples: 210\n",
            "'Bicycles crossing'  train samples: 240\n",
            "'Road narrows on the right'  train samples: 240\n",
            "'Keep left'  train samples: 270\n"
          ]
        }
      ],
      "source": [
        "\n",
        "counter = Counter(y_train)\n",
        "print(\"Train example per class mean {} min {} max {}\".format(int(np.mean(list(Counter(y_train).values()))),\n",
        "                                                    np.min(list(Counter(y_train).values())) ,\n",
        "                                                    np.max(list(Counter(y_train).values())) ))\n",
        "print(\"Most common signs:\")\n",
        "for el in counter.most_common(10):\n",
        "    print(\"'{}'\".format(get_name_from_label(el[0])),' train samples: {}'.format(el[1]))\n",
        "print()\n",
        "print(\"Most rare signs:\")\n",
        "for el in sorted(counter.items(),key=lambda x: x[1])[:10]:\n",
        "    print(\"'{}'\".format(get_name_from_label(el[0])),' train samples: {}'.format(el[1]))\n",
        "\n"
      ]
    },
    {
      "cell_type": "code",
      "execution_count": 6,
      "metadata": {
        "colab": {
          "base_uri": "https://localhost:8080/",
          "height": 699
        },
        "id": "uoHiLT71LAH3",
        "outputId": "3879388e-9dab-41c8-d326-2d5c77ec3bc5"
      },
      "outputs": [
        {
          "output_type": "display_data",
          "data": {
            "text/plain": [
              "<Figure size 720x720 with 1 Axes>"
            ],
            "image/png": "[encoded data removed]"
          },
          "metadata": {
            "needs_background": "light"
          }
        }
      ],
      "source": [
        "\n",
        "# Distribution of images per class \n",
        "counts = pd.DataFrame(columns=['sign_label','training_samples_count'],data=[(label, count) for label, count in counter.items()])\n",
        "counts['sign'] = counts.sign_label.apply(get_name_from_label)\n",
        "\n",
        "plt.figure(figsize=(10,10))\n",
        "sns.set(font_scale=1)\n",
        "sns.barplot(data=counts,x='training_samples_count',y='sign')\n",
        "plt.xticks(rotation=90)\n",
        "plt.ylabel('Training Class')\n",
        "plt.xlabel('Number of Images');\n",
        "plt.title(\"Distribution of the train dataset\")\n",
        "plt.tight_layout()\n",
        "#plt.savefig('training_set_counts.png')\n",
        "\n"
      ]
    },
    {
      "cell_type": "markdown",
      "metadata": {
        "id": "phADxh7L5S2D"
      },
      "source": [
        "#generate random image max 5 raw & clos"
      ]
    },
    {
      "cell_type": "code",
      "execution_count": 7,
      "metadata": {
        "colab": {
          "base_uri": "https://localhost:8080/",
          "height": 157
        },
        "id": "l-Jqg39NRAUJ",
        "outputId": "1012cef2-7061-4245-d0d9-11c1fbdf875b"
      },
      "outputs": [
        {
          "output_type": "execute_result",
          "data": {
            "text/plain": [
              "\"\\n\\ndef get_random_samples(n_max):\\n    selected = list()\\n    n_raw=5\\n    for current_label in range(n_raw):\\n        found=0\\n        while found<n_max:\\n            ii = np.random.randint(len(y_train))\\n            \\n            if current_label == y_train[ii]:\\n                selected.append(ii)\\n                found+=1\\n\\n    assert len(selected) ==  n_raw*n_max\\n    return list(selected)\\n    plt.figure(figsize=(12, 16))\\n\\n\\n\\ncount=0\\ncols = 10\\nfor ii in get_random_samples(cols):\\n    count+=1\\n    plt.subplot(5,cols,count)\\n    plt.imshow(X_train[ii])\\n    plt.axis('off')\\nplt.tight_layout()\\n#plt.savefig('random_examples.png')\\n\\n\""
            ],
            "application/vnd.google.colaboratory.intrinsic+json": {
              "type": "string"
            }
          },
          "metadata": {},
          "execution_count": 7
        }
      ],
      "source": [
        "\"\"\"\n",
        "\n",
        "def get_random_samples(n_max):\n",
        "    selected = list()\n",
        "    n_raw=5\n",
        "    for current_label in range(n_raw):\n",
        "        found=0\n",
        "        while found<n_max:\n",
        "            ii = np.random.randint(len(y_train))\n",
        "            \n",
        "            if current_label == y_train[ii]:\n",
        "                selected.append(ii)\n",
        "                found+=1\n",
        "\n",
        "    assert len(selected) ==  n_raw*n_max\n",
        "    return list(selected)\n",
        "    plt.figure(figsize=(12, 16))\n",
        "\n",
        "\n",
        "\n",
        "count=0\n",
        "cols = 10\n",
        "for ii in get_random_samples(cols):\n",
        "    count+=1\n",
        "    plt.subplot(5,cols,count)\n",
        "    plt.imshow(X_train[ii])\n",
        "    plt.axis('off')\n",
        "plt.tight_layout()\n",
        "#plt.savefig('random_examples.png')\n",
        "\n",
        "\"\"\""
      ]
    },
    {
      "cell_type": "markdown",
      "metadata": {
        "id": "euNhqdU63YDq"
      },
      "source": [
        "#**Pre-process the Data Set (normalization, etc.)** \n",
        "Minimally, the image data should be normalized so that the data has mean zero and equal variance. For image data,"
      ]
    },
    {
      "cell_type": "code",
      "source": [
        "import cv2\n",
        "from sklearn.utils import shuffle\n",
        "from skimage.transform import resize\n",
        "from skimage.transform import rotate\n",
        "from skimage.color import rgb2gray"
      ],
      "metadata": {
        "id": "o82ulYReO15G"
      },
      "execution_count": 8,
      "outputs": []
    },
    {
      "cell_type": "code",
      "execution_count": 9,
      "metadata": {
        "colab": {
          "base_uri": "https://localhost:8080/"
        },
        "id": "tUvZEh0QGlyq",
        "outputId": "152cf574-f4d2-4ffe-984c-5217f85d37e7"
      },
      "outputs": [
        {
          "output_type": "stream",
          "name": "stdout",
          "text": [
            "Augmenting functions defined.\n"
          ]
        }
      ],
      "source": [
        "#generate random value of image\n",
        "def someRandomImageId(nb = n_train):\n",
        "    return int(np.random.rand()*nb)\n",
        "\n",
        "#normalize the data\n",
        "def normalize_features_pos(img_):\n",
        "    return (img_-img_.mean())/(np.max(img_)-np.min(img_))\n",
        "\n",
        "#resize the data to (32,32)\n",
        "def resizeSize(img, x=32, y=32):\n",
        "    return cv2.resize(img,(x, y), interpolation = cv2.INTER_CUBIC)\n",
        "\n",
        "#crop roi in image\n",
        "def crop(img, ROI):\n",
        "    return img[(ROI[1]):(ROI[3]),(ROI[0]):(ROI[2])]\n",
        "\n",
        "#add a new roi\n",
        "def addROI(img, ROI, color=(255,0, 0)):\n",
        "    copy = img.copy()\n",
        "    return cv2.rectangle(copy,(ROI[0],ROI[1]),(ROI[2],ROI[3]),color)\n",
        "\n",
        "\n",
        "# rectify Coords  for selecting ROI\n",
        "def rectifyCoords(nb, sizes, coords):\n",
        "    rectified = []\n",
        "    for j in range(0, nb):\n",
        "        x_ratio = image_shape_with_n_train[1] / sizes[j][0]\n",
        "        y_ratio = image_shape_with_n_train[2] / sizes[j][1]\n",
        "        rectified.append((int(coords[j][0]*x_ratio), int(coords[j][1]*y_ratio), \\\n",
        "                          int(coords[j][2]*x_ratio), int(coords[j][3]*y_ratio)))\n",
        "    return rectified\n",
        "    \n",
        "#Augmenting function\n",
        "def augment_img(img,ROI):\n",
        "    #crop ROI \n",
        "    crop_ROI = crop(img, ROI)\n",
        "    #Resize ROI (32,32)\n",
        "    Resized_ROI=resizeSize(crop_ROI)\n",
        "    #normalize ROI\n",
        "    normalize_ROI=normalize_features_pos(Resized_ROI)\n",
        "    #Rotate ROI by a small angle [-15°, 15°] \n",
        "    rotated_ROI = rotate(normalize_ROI,np.random.rand()*30-15)\n",
        "    #GrayScal\n",
        "    #GrayScal_ROI = rgb2gray(rotated_ROI)\n",
        "    \n",
        "    return rotated_ROI\n",
        "\n",
        "#print Augmenting image\n",
        "def plotAugmentation(*argv, figsize=(20, 5), save=None):\n",
        "    fig = plt.figure(figsize=figsize)\n",
        "    for i in range(0, len(argv[0])):    \n",
        "        ax=fig.add_subplot(1,len(argv[0]),i+1)        \n",
        "        ax.imshow(argv[0][i][1])\n",
        "        ax.set_title(argv[0][i][0])\n",
        "    if save != None:\n",
        "        plt.savefig(save)\n",
        "    plt.show() \n",
        "\n",
        "\n",
        "rectified_train_coords = rectifyCoords(n_train, train_sizes, train_coords)\n",
        "rectified_valid_coords = rectifyCoords(n_validation, valid_sizes, valid_coords)\n",
        "rectified_test_coords  = rectifyCoords(n_test,  test_sizes,  test_coords)\n",
        "\n",
        "print(\"Augmenting functions defined.\")\n"
      ]
    },
    {
      "cell_type": "markdown",
      "source": [
        "# **Region of interst Cropping** &  **Normalize**\n",
        "- Neural networks offer much better results when the data is normalized because it creates more variation in the data values. Practically speaking normalizing the data means that the input values range from -1 to 1 instead of being between 0 and 255 in the case of images.\n",
        "- In order to add more training data and to make the network more accurate, I rotate randomly the images by a small angle [-15°, 15°] around the center of the Region Of Interest."
      ],
      "metadata": {
        "id": "IP0O5YuPjXSU"
      }
    },
    {
      "cell_type": "code",
      "execution_count": 10,
      "metadata": {
        "id": "xz2uCOYHIz9r",
        "colab": {
          "base_uri": "https://localhost:8080/",
          "height": 254
        },
        "outputId": "34cf75da-faa2-4fa9-e95b-c5f0ffa0499e"
      },
      "outputs": [
        {
          "output_type": "stream",
          "name": "stderr",
          "text": [
            "WARNING:matplotlib.image:Clipping input data to the valid range for imshow with RGB data ([0..1] for floats or [0..255] for integers).\n"
          ]
        },
        {
          "output_type": "display_data",
          "data": {
            "text/plain": [
              "<Figure size 1440x360 with 3 Axes>"
            ],
            "image/png": "[encoded data removed]"
          },
          "metadata": {}
        }
      ],
      "source": [
        "\n",
        "i = someRandomImageId()\n",
        "#print(i)\n",
        "#i=10852\n",
        "arguments = (('Original', X_train[i]), ('ROI', addROI(X_train[i], rectified_train_coords[i])),('normalize & Rotate ROI', augment_img(X_train[i], rectified_train_coords[i])))\n",
        "#print(augment_img(X_train[i], rectified_train_coords[i]).shape)\n",
        "plotAugmentation(arguments)\n",
        "\n"
      ]
    },
    {
      "cell_type": "markdown",
      "metadata": {
        "id": "erbs-Dj78uHb"
      },
      "source": [
        "#**Pre-processing All The Dataset**"
      ]
    },
    {
      "cell_type": "code",
      "source": [
        "#Training data splitting for validation dataset\n",
        "\n",
        "X_train, y_train = shuffle(X_train, y_train)\n",
        "X_valid, y_valid = shuffle(X_valid, y_valid)\n",
        "X_test, y_test = shuffle(X_test, y_test)\n"
      ],
      "metadata": {
        "id": "q7O1tvAeknji"
      },
      "execution_count": 11,
      "outputs": []
    },
    {
      "cell_type": "code",
      "source": [
        "X_train = normalize_features_pos(X_train)\n",
        "X_valid = normalize_features_pos(X_valid)\n",
        "X_test = normalize_features_pos(X_test)"
      ],
      "metadata": {
        "id": "fv_8muV192pe"
      },
      "execution_count": 12,
      "outputs": []
    },
    {
      "cell_type": "code",
      "execution_count": 13,
      "metadata": {
        "id": "ePBPFWZ8TGUX",
        "colab": {
          "base_uri": "https://localhost:8080/",
          "height": 227
        },
        "outputId": "d8158fea-8b04-445f-ebd5-81d6b1ecfc9c"
      },
      "outputs": [
        {
          "output_type": "execute_result",
          "data": {
            "text/plain": [
              "'\\n#Augmented All dataset Using the augmented function\\n\\nX_train_transf =[]\\ny_train_transf = []\\n\\nfor ii in range(0,num_img_needed):\\n    img = X_train[ii]\\n    label = y_train[ii]\\n    imgout = augment_img(img, rectified_train_coords[ii])\\n    imgout.shape = (1,) + imgout.shape + (1,)\\n    X_train_transf.append(imgout)\\n    y_train_transf.append(label)\\n    for j in range(10):\\n        imgout = augment_img(img, rectified_train_coords[ii])\\n        imgout.shape = (1,) + imgout.shape + (1,)\\n        X_train_transf.append(imgout)\\n        y_train_transf.append(label)\\n\\n\\n\\nX_train_transf = np.concatenate(X_train_transf,axis=0)\\ny_train_transf = np.array(y_train_transf)\\n\\n\\nX_test_transf = []\\nX_valid_transf = []\\n\\nfor ii in range(X_valid.shape[0]):\\n    img = X_valid[ii]\\n    img = augment_img(img, rectified_train_coords[ii])\\n    img.shape = (1,) + img.shape + (1,)\\n    X_valid_transf.append(img)\\n    \\nfor ii in range(X_test.shape[0]):\\n    img = X_test[ii]\\n    img = augment_img(img, rectified_train_coords[ii])\\n    img.shape = (1,) + img.shape + (1,)\\n    X_test_transf.append(img)\\n\\n\\nX_test_transf = np.concatenate(X_test_transf,axis=0)\\nX_valid_transf = np.concatenate(X_valid_transf,axis=0)\\n\\n\\n'"
            ],
            "application/vnd.google.colaboratory.intrinsic+json": {
              "type": "string"
            }
          },
          "metadata": {},
          "execution_count": 13
        }
      ],
      "source": [
        "\"\"\"\n",
        "#Augmented All dataset Using the augmented function\n",
        "\n",
        "X_train_transf =[]\n",
        "y_train_transf = []\n",
        "\n",
        "for ii in range(0,num_img_needed):\n",
        "    img = X_train[ii]\n",
        "    label = y_train[ii]\n",
        "    imgout = augment_img(img, rectified_train_coords[ii])\n",
        "    imgout.shape = (1,) + imgout.shape + (1,)\n",
        "    X_train_transf.append(imgout)\n",
        "    y_train_transf.append(label)\n",
        "    for j in range(10):\n",
        "        imgout = augment_img(img, rectified_train_coords[ii])\n",
        "        imgout.shape = (1,) + imgout.shape + (1,)\n",
        "        X_train_transf.append(imgout)\n",
        "        y_train_transf.append(label)\n",
        "\n",
        "\n",
        "\n",
        "X_train_transf = np.concatenate(X_train_transf,axis=0)\n",
        "y_train_transf = np.array(y_train_transf)\n",
        "\n",
        "\n",
        "X_test_transf = []\n",
        "X_valid_transf = []\n",
        "\n",
        "for ii in range(X_valid.shape[0]):\n",
        "    img = X_valid[ii]\n",
        "    img = augment_img(img, rectified_train_coords[ii])\n",
        "    img.shape = (1,) + img.shape + (1,)\n",
        "    X_valid_transf.append(img)\n",
        "    \n",
        "for ii in range(X_test.shape[0]):\n",
        "    img = X_test[ii]\n",
        "    img = augment_img(img, rectified_train_coords[ii])\n",
        "    img.shape = (1,) + img.shape + (1,)\n",
        "    X_test_transf.append(img)\n",
        "\n",
        "\n",
        "X_test_transf = np.concatenate(X_test_transf,axis=0)\n",
        "X_valid_transf = np.concatenate(X_valid_transf,axis=0)\n",
        "\n",
        "\n",
        "\"\"\""
      ]
    },
    {
      "cell_type": "markdown",
      "metadata": {
        "id": "N3IcJ6R1pDy5"
      },
      "source": [
        "# **Model Architecture**"
      ]
    },
    {
      "cell_type": "markdown",
      "metadata": {
        "id": "ftQTmg9ucjnY"
      },
      "source": [
        " **LeNet**\n",
        " "
      ]
    },
    {
      "cell_type": "markdown",
      "metadata": {
        "id": "tXc1etSqf4oa"
      },
      "source": [
        "\n",
        "![Lenet(CNN).png](data:image/png;base64,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)"
      ]
    },
    {
      "cell_type": "code",
      "execution_count": 14,
      "metadata": {
        "colab": {
          "base_uri": "https://localhost:8080/"
        },
        "id": "ji2U74OGnrhF",
        "outputId": "c4ab33e0-675d-4ccc-9f2f-bfaeb84ec22d"
      },
      "outputs": [
        {
          "output_type": "stream",
          "name": "stdout",
          "text": [
            "Looking in indexes: https://pypi.org/simple, https://us-python.pkg.dev/colab-wheels/public/simple/\n",
            "Collecting tf_slim\n",
            "  Downloading tf_slim-1.1.0-py2.py3-none-any.whl (352 kB)\n",
            "\u001b[K     |████████████████████████████████| 352 kB 7.1 MB/s \n",
            "\u001b[?25hRequirement already satisfied: absl-py>=0.2.2 in /usr/local/lib/python3.7/dist-packages (from tf_slim) (1.2.0)\n",
            "Installing collected packages: tf-slim\n",
            "Successfully installed tf-slim-1.1.0\n"
          ]
        }
      ],
      "source": [
        "!pip install --upgrade tf_slim"
      ]
    },
    {
      "cell_type": "code",
      "execution_count": 15,
      "metadata": {
        "id": "8b1UViFjFy_X"
      },
      "outputs": [],
      "source": [
        "import tensorflow as tf\n",
        "import tf_slim as slim\n",
        "tf.compat.v1.disable_eager_execution()"
      ]
    },
    {
      "cell_type": "code",
      "source": [
        "#Test GPU \n",
        "#tf.test.gpu_device_name()"
      ],
      "metadata": {
        "id": "cC3NUtbkPSze"
      },
      "execution_count": 16,
      "outputs": []
    },
    {
      "cell_type": "code",
      "source": [
        "def LeNet(x): \n",
        "    # Arguments used for tf.truncated_normal, randomly defines variables for the weights and biases for each layer\n",
        "    mu = 0\n",
        "    sigma = 0.1\n",
        "    \n",
        "    # Layer 1: Convolutional. Input = 32x32x3. Output = 28x28x6.\n",
        "    conv1_W = tf.Variable(tf.compat.v1.truncated_normal(shape=(5, 5, 3, 6), mean = mu, stddev = sigma))\n",
        "    conv1_b = tf.Variable(tf.zeros(6))\n",
        "    conv1   = tf.nn.conv2d(x, conv1_W, strides=[1, 1, 1, 1], padding='VALID') + conv1_b\n",
        "    \n",
        "    # Activation 1. using relu Activation Function\n",
        "    conv1 = tf.nn.relu(conv1)\n",
        "\n",
        "    # Max Pooling. Input = 28x28x6. Output = 14x14x6.\n",
        "    conv1 = tf.nn.max_pool(conv1, ksize=[1, 2, 2, 1], strides=[1, 2, 2, 1], padding='VALID')\n",
        "    \n",
        "    \n",
        "    # Layer 2: Convolutional. Input = 14x14x6. Output = 10x10x16.\n",
        "    conv2_W = tf.Variable(tf.compat.v1.truncated_normal(shape=(5, 5, 6, 16), mean = mu, stddev = sigma))\n",
        "    conv2_b = tf.Variable(tf.zeros(16))\n",
        "    conv2   = tf.nn.conv2d(conv1, conv2_W, strides=[1, 1, 1, 1], padding='VALID') + conv2_b\n",
        "    \n",
        "    # Activation 2.\n",
        "    conv2 = tf.nn.relu(conv2)\n",
        "\n",
        "    # Pooling. Input = 10x10x16. Output = 5x5x16.\n",
        "    conv2 = tf.nn.max_pool(conv2, ksize=[1, 2, 2, 1], strides=[1, 2, 2, 1], padding='VALID')\n",
        "    \n",
        "    #Flatten Input : reduces the input data into a single dimension 5x5x16 = 400\n",
        "    # Flatten. Input = 5x5x16. Output = 400.\n",
        "    flattened   = slim.flatten(conv2)\n",
        "    \n",
        "    #Matrix multiplication\n",
        "    #input: 1x400\n",
        "    #weight: 400x120 \n",
        "    #Matrix multiplication(dot product rule)\n",
        "    #output = 1x400 * 400*120 => 1x120\n",
        "    \n",
        "     # Layer 3: Fully Connected. Input = 400. Output = 120.\n",
        "    fullyc1_W = tf.Variable(tf.compat.v1.truncated_normal(shape=(400, 120), mean = mu, stddev = sigma))\n",
        "    fullyc1_b = tf.Variable(tf.zeros(120))\n",
        "    fullyc1   = tf.matmul(flattened, fullyc1_W) + fullyc1_b\n",
        "    \n",
        "    # Full connected layer activation 1.\n",
        "    fullyc1    = tf.nn.relu(fullyc1)\n",
        "    \n",
        "    # Layer 4: Fully Connected. Input = 120. Output = 84.\n",
        "    fullyc2_W  = tf.Variable(tf.compat.v1.truncated_normal(shape=(120, 84), mean = 0, stddev = 0.1))\n",
        "    fullyc2_b  = tf.Variable(tf.zeros(84))\n",
        "    fullyc2    = tf.matmul(fullyc1, fullyc2_W) + fullyc2_b\n",
        "    \n",
        "    # Full connected layer activation 2.\n",
        "    fullyc2    = tf.nn.relu(fullyc2)\n",
        "    \n",
        "    # Layer 5: Fully Connected. Input = 84. Output = 43.\n",
        "    fullyc3_W  = tf.Variable(tf.compat.v1.truncated_normal(shape=(84, 43), mean = 0, stddev = 0.1))\n",
        "    fullyc3_b  = tf.Variable(tf.zeros(43))\n",
        "    logits = tf.matmul(fullyc2, fullyc3_W) + fullyc3_b\n",
        "    \n",
        "    return logits\n",
        "\n",
        "print(\"Model defined.\")"
      ],
      "metadata": {
        "colab": {
          "base_uri": "https://localhost:8080/"
        },
        "id": "522M1mjwodKT",
        "outputId": "81b80ed6-58e6-4ba2-fd3c-92fe79038019"
      },
      "execution_count": 17,
      "outputs": [
        {
          "output_type": "stream",
          "name": "stdout",
          "text": [
            "Model defined.\n"
          ]
        }
      ]
    },
    {
      "cell_type": "markdown",
      "metadata": {
        "id": "Rdd6U7kZ8Cxq"
      },
      "source": [
        "# **Features and Labels**\n",
        "x is a placeholder for a batch of input images. y is a placeholder for a batch of output labels. ."
      ]
    },
    {
      "cell_type": "code",
      "source": [
        "x = tf.compat.v1.placeholder(tf.float32, (None, 32, 32, 3))\n",
        "y = tf.compat.v1.placeholder(tf.int32, (None))\n",
        "one_hot_y = tf.one_hot(y, 43)"
      ],
      "metadata": {
        "id": "nZQnuH7To72I"
      },
      "execution_count": 18,
      "outputs": []
    },
    {
      "cell_type": "markdown",
      "metadata": {
        "id": "oTnQ3t_h-Sfy"
      },
      "source": [
        "# **Train & Validate the Model**\n",
        "A validation set can be used to assess how well the model is performing. A low accuracy on the training and validation sets imply underfitting. A high accuracy on the training set but low accuracy on the validation set implies overfitting."
      ]
    },
    {
      "cell_type": "code",
      "source": [
        "\"\"\"      \n",
        "Hyper parameters\n",
        "\n",
        "\"\"\"\n",
        "\n",
        "#learning rates745\n",
        "learning_rate = 0.001\n",
        "#the number of times the algorithm sees the entire data set\n",
        "epochs = 42\n",
        "#the number of samples (inputs) that will be passed through to the network at one time.\n",
        "batch_size = 128\n"
      ],
      "metadata": {
        "id": "3DM0bQ5So2ke"
      },
      "execution_count": 19,
      "outputs": []
    },
    {
      "cell_type": "code",
      "source": [
        "logits = LeNet(x)\n",
        "#relation between probabilities and Erreur function CE\n",
        "cross_entropy = tf.nn.softmax_cross_entropy_with_logits(labels=one_hot_y, logits=logits)\n",
        "loss_operation = tf.reduce_mean(cross_entropy)\n",
        "optimizer = tf.compat.v1.train.AdamOptimizer(learning_rate = learning_rate)\n",
        "training_operation = optimizer.minimize(loss_operation)\n",
        "predict_operation = tf.argmax(logits, 1)\n",
        "predict_proba_operation = tf.nn.softmax(logits=logits)"
      ],
      "metadata": {
        "id": "clwcAmkl-qrW"
      },
      "execution_count": 20,
      "outputs": []
    },
    {
      "cell_type": "markdown",
      "metadata": {
        "id": "LotBBQNei-9G"
      },
      "source": [
        "# **Model Evaluation**\n",
        "Evaluate how well the accuracy of the model for a given dataset."
      ]
    },
    {
      "cell_type": "code",
      "source": [
        "correct_prediction = tf.equal(predict_operation, tf.argmax(one_hot_y, 1))\n",
        "accuracy_operation = tf.reduce_mean(tf.cast(correct_prediction, tf.float32))\n",
        "\n",
        "def evaluate(X_data, y_data):\n",
        "    num_examples = len(X_data)\n",
        "    total_accuracy = 0\n",
        "    total_loss = 0\n",
        "    sess = tf.compat.v1.get_default_session()\n",
        "    for offset in range(0, num_examples, batch_size):\n",
        "        batch_x, batch_y = X_data[offset:offset+batch_size], y_data[offset:offset+batch_size]\n",
        "        loss, accuracy = sess.run([loss_operation, accuracy_operation], feed_dict={x: batch_x, y: batch_y})\n",
        "        total_accuracy += (accuracy * len(batch_x))\n",
        "        total_loss += (loss * len(batch_x))\n",
        "    return total_loss/num_examples, total_accuracy/num_examples\n",
        "\n",
        "print(\"Evaluate function defined.\")"
      ],
      "metadata": {
        "colab": {
          "base_uri": "https://localhost:8080/"
        },
        "id": "Z1fNNqekpfpb",
        "outputId": "edcfdc03-f5cb-437c-f879-2c2c6b141343"
      },
      "execution_count": 21,
      "outputs": [
        {
          "output_type": "stream",
          "name": "stdout",
          "text": [
            "Evaluate function defined.\n"
          ]
        }
      ]
    },
    {
      "cell_type": "code",
      "execution_count": 22,
      "metadata": {
        "id": "-l0hyptIoany"
      },
      "outputs": [],
      "source": [
        "from sklearn.utils import shuffle\n",
        "from time import time\n",
        "import logging, datetime"
      ]
    },
    {
      "cell_type": "code",
      "execution_count": 23,
      "metadata": {
        "id": "M17NnIEsoYwi"
      },
      "outputs": [],
      "source": [
        "\n",
        "\"\"\"\n",
        "Log File for Metadata \n",
        "\"\"\"\n",
        "logger = logging.getLogger()\n",
        "#create file handler for logger\n",
        "def setup_file_logger(log_file):\n",
        "    hdlr = logging.FileHandler(log_file)\n",
        "    formatter = logging.Formatter('%(asctime)s %(levelname)s %(message)s')\n",
        "    hdlr.setFormatter(formatter)\n",
        "    logger.addHandler(hdlr) \n",
        "    logger.setLevel(logging.INFO)\n",
        "\n",
        "def log(message):\n",
        "    #outputs to Colab console\n",
        "    print('{} {}'.format(datetime.datetime.now(), message))\n",
        "    #outputs to file\n",
        "    logger.info(message)\n",
        "\n",
        "setup_file_logger('training_Modul.log')"
      ]
    },
    {
      "cell_type": "markdown",
      "source": [
        "# **Train the Model**"
      ],
      "metadata": {
        "id": "LdKGhkN7ludv"
      }
    },
    {
      "cell_type": "code",
      "source": [
        "saver = tf.compat.v1.train.Saver()\n",
        "with tf.compat.v1.Session() as sess:\n",
        "    sess.run(tf.compat.v1.global_variables_initializer())\n",
        "    num_examples = len(X_train)\n",
        "    \n",
        "    print(\"Start Training...\")\n",
        "    print(\"Number of epochs : {}\".format(epochs))\n",
        "    print(\"Batch size : {}\".format(batch_size))\n",
        "    print(\"Learning rate : {}\".format(learning_rate))\n",
        "    print()\n",
        "    \n",
        "\n",
        "    for i in range(epochs):\n",
        "      try:\n",
        "            X_train, y_train = shuffle(X_train, y_train)\n",
        "            for offset in range(0, num_examples, batch_size):\n",
        "                end = offset + batch_size\n",
        "                batch_x, batch_y = X_train[offset:end], y_train[offset:end]\n",
        "                sess.run(training_operation, feed_dict={x: batch_x, y: batch_y})\n",
        "                        \n",
        "            log(\"EPOCH {} ...\".format(i+1))\n",
        "            # Training data\n",
        "            train_loss, train_accuracy = evaluate(X_train, y_train)\n",
        "            log(\"Training Accuracy = {:.3f}\".format(train_accuracy))\n",
        "            print(\"Training error = {:.3f} \".format( train_loss ))\n",
        "            # Validation data\n",
        "            valid_loss, valid_accuracy = evaluate(X_valid, y_valid)\n",
        "            log(\"Validation Accuracy = {:.3f}\".format(valid_accuracy))\n",
        "            print(\"Validation error = {:.3f}\".format(valid_loss))\n",
        "            print()\n",
        "\n",
        "\n",
        "      except KeyboardInterrupt:\n",
        "          test_loss, test_accuracy = evaluate(X_valid, y_valid)\n",
        "          log('Accuracy Model On Test Images: {}'.format(test_accuracy))\n",
        "          print('Loss Model On Test Images: {}'.format(test_loss))   \n",
        "          break\n",
        "\n",
        "        \n",
        "    saver.save(sess, 'LeNet_Modul')\n",
        "    print(\"Model saved\")"
      ],
      "metadata": {
        "colab": {
          "base_uri": "https://localhost:8080/"
        },
        "id": "giFmOW2Lp4WX",
        "outputId": "90c2217a-cffd-42f4-91e0-9a966eb55722"
      },
      "execution_count": 24,
      "outputs": [
        {
          "output_type": "stream",
          "name": "stdout",
          "text": [
            "Start Training...\n",
            "Number of epochs : 42\n",
            "Batch size : 128\n",
            "Learning rate : 0.001\n",
            "\n"
          ]
        },
        {
          "output_type": "stream",
          "name": "stderr",
          "text": [
            "INFO:root:EPOCH 1 ...\n"
          ]
        },
        {
          "output_type": "stream",
          "name": "stdout",
          "text": [
            "2022-08-13 19:25:07.125163 EPOCH 1 ...\n"
          ]
        },
        {
          "output_type": "stream",
          "name": "stderr",
          "text": [
            "INFO:root:Training Accuracy = 0.760\n"
          ]
        },
        {
          "output_type": "stream",
          "name": "stdout",
          "text": [
            "2022-08-13 19:25:08.358774 Training Accuracy = 0.760\n",
            "Training error = 0.756 \n"
          ]
        },
        {
          "output_type": "stream",
          "name": "stderr",
          "text": [
            "INFO:root:Validation Accuracy = 0.702\n"
          ]
        },
        {
          "output_type": "stream",
          "name": "stdout",
          "text": [
            "2022-08-13 19:25:08.588577 Validation Accuracy = 0.702\n",
            "Validation error = 1.001\n",
            "\n"
          ]
        },
        {
          "output_type": "stream",
          "name": "stderr",
          "text": [
            "INFO:root:EPOCH 2 ...\n"
          ]
        },
        {
          "output_type": "stream",
          "name": "stdout",
          "text": [
            "2022-08-13 19:25:10.469138 EPOCH 2 ...\n"
          ]
        },
        {
          "output_type": "stream",
          "name": "stderr",
          "text": [
            "INFO:root:Training Accuracy = 0.918\n",
            "INFO:root:Validation Accuracy = 0.824\n"
          ]
        },
        {
          "output_type": "stream",
          "name": "stdout",
          "text": [
            "2022-08-13 19:25:11.609980 Training Accuracy = 0.918\n",
            "Training error = 0.307 \n",
            "2022-08-13 19:25:11.747087 Validation Accuracy = 0.824\n",
            "Validation error = 0.610\n",
            "\n"
          ]
        },
        {
          "output_type": "stream",
          "name": "stderr",
          "text": [
            "INFO:root:EPOCH 3 ...\n"
          ]
        },
        {
          "output_type": "stream",
          "name": "stdout",
          "text": [
            "2022-08-13 19:25:13.450862 EPOCH 3 ...\n"
          ]
        },
        {
          "output_type": "stream",
          "name": "stderr",
          "text": [
            "INFO:root:Training Accuracy = 0.950\n",
            "INFO:root:Validation Accuracy = 0.866\n"
          ]
        },
        {
          "output_type": "stream",
          "name": "stdout",
          "text": [
            "2022-08-13 19:25:14.558056 Training Accuracy = 0.950\n",
            "Training error = 0.191 \n",
            "2022-08-13 19:25:14.681226 Validation Accuracy = 0.866\n",
            "Validation error = 0.506\n",
            "\n"
          ]
        },
        {
          "output_type": "stream",
          "name": "stderr",
          "text": [
            "INFO:root:EPOCH 4 ...\n"
          ]
        },
        {
          "output_type": "stream",
          "name": "stdout",
          "text": [
            "2022-08-13 19:25:16.295648 EPOCH 4 ...\n"
          ]
        },
        {
          "output_type": "stream",
          "name": "stderr",
          "text": [
            "INFO:root:Training Accuracy = 0.966\n",
            "INFO:root:Validation Accuracy = 0.884\n"
          ]
        },
        {
          "output_type": "stream",
          "name": "stdout",
          "text": [
            "2022-08-13 19:25:17.375747 Training Accuracy = 0.966\n",
            "Training error = 0.131 \n",
            "2022-08-13 19:25:17.521367 Validation Accuracy = 0.884\n",
            "Validation error = 0.473\n",
            "\n"
          ]
        },
        {
          "output_type": "stream",
          "name": "stderr",
          "text": [
            "INFO:root:EPOCH 5 ...\n"
          ]
        },
        {
          "output_type": "stream",
          "name": "stdout",
          "text": [
            "2022-08-13 19:25:19.345870 EPOCH 5 ...\n"
          ]
        },
        {
          "output_type": "stream",
          "name": "stderr",
          "text": [
            "INFO:root:Training Accuracy = 0.974\n",
            "INFO:root:Validation Accuracy = 0.877\n"
          ]
        },
        {
          "output_type": "stream",
          "name": "stdout",
          "text": [
            "2022-08-13 19:25:20.657126 Training Accuracy = 0.974\n",
            "Training error = 0.100 \n",
            "2022-08-13 19:25:20.832057 Validation Accuracy = 0.877\n",
            "Validation error = 0.566\n",
            "\n"
          ]
        },
        {
          "output_type": "stream",
          "name": "stderr",
          "text": [
            "INFO:root:EPOCH 6 ...\n"
          ]
        },
        {
          "output_type": "stream",
          "name": "stdout",
          "text": [
            "2022-08-13 19:25:22.579701 EPOCH 6 ...\n"
          ]
        },
        {
          "output_type": "stream",
          "name": "stderr",
          "text": [
            "INFO:root:Training Accuracy = 0.982\n",
            "INFO:root:Validation Accuracy = 0.883\n"
          ]
        },
        {
          "output_type": "stream",
          "name": "stdout",
          "text": [
            "2022-08-13 19:25:23.635302 Training Accuracy = 0.982\n",
            "Training error = 0.076 \n",
            "2022-08-13 19:25:23.776702 Validation Accuracy = 0.883\n",
            "Validation error = 0.538\n",
            "\n"
          ]
        },
        {
          "output_type": "stream",
          "name": "stderr",
          "text": [
            "INFO:root:EPOCH 7 ...\n"
          ]
        },
        {
          "output_type": "stream",
          "name": "stdout",
          "text": [
            "2022-08-13 19:25:25.385372 EPOCH 7 ...\n"
          ]
        },
        {
          "output_type": "stream",
          "name": "stderr",
          "text": [
            "INFO:root:Training Accuracy = 0.987\n",
            "INFO:root:Validation Accuracy = 0.886\n"
          ]
        },
        {
          "output_type": "stream",
          "name": "stdout",
          "text": [
            "2022-08-13 19:25:26.408112 Training Accuracy = 0.987\n",
            "Training error = 0.057 \n",
            "2022-08-13 19:25:26.538248 Validation Accuracy = 0.886\n",
            "Validation error = 0.489\n",
            "\n"
          ]
        },
        {
          "output_type": "stream",
          "name": "stderr",
          "text": [
            "INFO:root:EPOCH 8 ...\n"
          ]
        },
        {
          "output_type": "stream",
          "name": "stdout",
          "text": [
            "2022-08-13 19:25:28.129023 EPOCH 8 ...\n"
          ]
        },
        {
          "output_type": "stream",
          "name": "stderr",
          "text": [
            "INFO:root:Training Accuracy = 0.989\n",
            "INFO:root:Validation Accuracy = 0.893\n"
          ]
        },
        {
          "output_type": "stream",
          "name": "stdout",
          "text": [
            "2022-08-13 19:25:29.274356 Training Accuracy = 0.989\n",
            "Training error = 0.047 \n",
            "2022-08-13 19:25:29.402899 Validation Accuracy = 0.893\n",
            "Validation error = 0.488\n",
            "\n"
          ]
        },
        {
          "output_type": "stream",
          "name": "stderr",
          "text": [
            "INFO:root:EPOCH 9 ...\n"
          ]
        },
        {
          "output_type": "stream",
          "name": "stdout",
          "text": [
            "2022-08-13 19:25:30.994493 EPOCH 9 ...\n"
          ]
        },
        {
          "output_type": "stream",
          "name": "stderr",
          "text": [
            "INFO:root:Training Accuracy = 0.982\n",
            "INFO:root:Validation Accuracy = 0.879\n"
          ]
        },
        {
          "output_type": "stream",
          "name": "stdout",
          "text": [
            "2022-08-13 19:25:31.773090 Training Accuracy = 0.982\n",
            "Training error = 0.060 \n",
            "2022-08-13 19:25:31.869039 Validation Accuracy = 0.879\n",
            "Validation error = 0.554\n",
            "\n"
          ]
        },
        {
          "output_type": "stream",
          "name": "stderr",
          "text": [
            "INFO:root:EPOCH 10 ...\n"
          ]
        },
        {
          "output_type": "stream",
          "name": "stdout",
          "text": [
            "2022-08-13 19:25:33.053020 EPOCH 10 ...\n"
          ]
        },
        {
          "output_type": "stream",
          "name": "stderr",
          "text": [
            "INFO:root:Training Accuracy = 0.993\n",
            "INFO:root:Validation Accuracy = 0.904\n"
          ]
        },
        {
          "output_type": "stream",
          "name": "stdout",
          "text": [
            "2022-08-13 19:25:33.748708 Training Accuracy = 0.993\n",
            "Training error = 0.031 \n",
            "2022-08-13 19:25:33.844939 Validation Accuracy = 0.904\n",
            "Validation error = 0.519\n",
            "\n"
          ]
        },
        {
          "output_type": "stream",
          "name": "stderr",
          "text": [
            "INFO:root:EPOCH 11 ...\n"
          ]
        },
        {
          "output_type": "stream",
          "name": "stdout",
          "text": [
            "2022-08-13 19:25:34.966132 EPOCH 11 ...\n"
          ]
        },
        {
          "output_type": "stream",
          "name": "stderr",
          "text": [
            "INFO:root:Training Accuracy = 0.989\n",
            "INFO:root:Validation Accuracy = 0.894\n"
          ]
        },
        {
          "output_type": "stream",
          "name": "stdout",
          "text": [
            "2022-08-13 19:25:35.688798 Training Accuracy = 0.989\n",
            "Training error = 0.036 \n",
            "2022-08-13 19:25:35.780894 Validation Accuracy = 0.894\n",
            "Validation error = 0.587\n",
            "\n"
          ]
        },
        {
          "output_type": "stream",
          "name": "stderr",
          "text": [
            "INFO:root:EPOCH 12 ...\n"
          ]
        },
        {
          "output_type": "stream",
          "name": "stdout",
          "text": [
            "2022-08-13 19:25:36.902539 EPOCH 12 ...\n"
          ]
        },
        {
          "output_type": "stream",
          "name": "stderr",
          "text": [
            "INFO:root:Training Accuracy = 0.987\n",
            "INFO:root:Validation Accuracy = 0.889\n"
          ]
        },
        {
          "output_type": "stream",
          "name": "stdout",
          "text": [
            "2022-08-13 19:25:37.591505 Training Accuracy = 0.987\n",
            "Training error = 0.041 \n",
            "2022-08-13 19:25:37.687714 Validation Accuracy = 0.889\n",
            "Validation error = 0.571\n",
            "\n"
          ]
        },
        {
          "output_type": "stream",
          "name": "stderr",
          "text": [
            "INFO:root:EPOCH 13 ...\n"
          ]
        },
        {
          "output_type": "stream",
          "name": "stdout",
          "text": [
            "2022-08-13 19:25:38.824979 EPOCH 13 ...\n"
          ]
        },
        {
          "output_type": "stream",
          "name": "stderr",
          "text": [
            "INFO:root:Training Accuracy = 0.985\n",
            "INFO:root:Validation Accuracy = 0.882\n"
          ]
        },
        {
          "output_type": "stream",
          "name": "stdout",
          "text": [
            "2022-08-13 19:25:39.527661 Training Accuracy = 0.985\n",
            "Training error = 0.045 \n",
            "2022-08-13 19:25:39.617737 Validation Accuracy = 0.882\n",
            "Validation error = 0.640\n",
            "\n"
          ]
        },
        {
          "output_type": "stream",
          "name": "stderr",
          "text": [
            "INFO:root:EPOCH 14 ...\n"
          ]
        },
        {
          "output_type": "stream",
          "name": "stdout",
          "text": [
            "2022-08-13 19:25:40.714831 EPOCH 14 ...\n"
          ]
        },
        {
          "output_type": "stream",
          "name": "stderr",
          "text": [
            "INFO:root:Training Accuracy = 0.996\n",
            "INFO:root:Validation Accuracy = 0.908\n"
          ]
        },
        {
          "output_type": "stream",
          "name": "stdout",
          "text": [
            "2022-08-13 19:25:41.393969 Training Accuracy = 0.996\n",
            "Training error = 0.015 \n",
            "2022-08-13 19:25:41.492474 Validation Accuracy = 0.908\n",
            "Validation error = 0.551\n",
            "\n"
          ]
        },
        {
          "output_type": "stream",
          "name": "stderr",
          "text": [
            "INFO:root:EPOCH 15 ...\n"
          ]
        },
        {
          "output_type": "stream",
          "name": "stdout",
          "text": [
            "2022-08-13 19:25:42.594199 EPOCH 15 ...\n"
          ]
        },
        {
          "output_type": "stream",
          "name": "stderr",
          "text": [
            "INFO:root:Training Accuracy = 0.988\n",
            "INFO:root:Validation Accuracy = 0.906\n"
          ]
        },
        {
          "output_type": "stream",
          "name": "stdout",
          "text": [
            "2022-08-13 19:25:43.268710 Training Accuracy = 0.988\n",
            "Training error = 0.038 \n",
            "2022-08-13 19:25:43.359150 Validation Accuracy = 0.906\n",
            "Validation error = 0.518\n",
            "\n"
          ]
        },
        {
          "output_type": "stream",
          "name": "stderr",
          "text": [
            "INFO:root:EPOCH 16 ...\n"
          ]
        },
        {
          "output_type": "stream",
          "name": "stdout",
          "text": [
            "2022-08-13 19:25:44.450818 EPOCH 16 ...\n"
          ]
        },
        {
          "output_type": "stream",
          "name": "stderr",
          "text": [
            "INFO:root:Training Accuracy = 0.997\n",
            "INFO:root:Validation Accuracy = 0.907\n"
          ]
        },
        {
          "output_type": "stream",
          "name": "stdout",
          "text": [
            "2022-08-13 19:25:45.150042 Training Accuracy = 0.997\n",
            "Training error = 0.013 \n",
            "2022-08-13 19:25:45.244104 Validation Accuracy = 0.907\n",
            "Validation error = 0.545\n",
            "\n"
          ]
        },
        {
          "output_type": "stream",
          "name": "stderr",
          "text": [
            "INFO:root:EPOCH 17 ...\n"
          ]
        },
        {
          "output_type": "stream",
          "name": "stdout",
          "text": [
            "2022-08-13 19:25:46.390823 EPOCH 17 ...\n"
          ]
        },
        {
          "output_type": "stream",
          "name": "stderr",
          "text": [
            "INFO:root:Training Accuracy = 0.993\n",
            "INFO:root:Validation Accuracy = 0.904\n"
          ]
        },
        {
          "output_type": "stream",
          "name": "stdout",
          "text": [
            "2022-08-13 19:25:47.086351 Training Accuracy = 0.993\n",
            "Training error = 0.024 \n",
            "2022-08-13 19:25:47.181540 Validation Accuracy = 0.904\n",
            "Validation error = 0.548\n",
            "\n"
          ]
        },
        {
          "output_type": "stream",
          "name": "stderr",
          "text": [
            "INFO:root:EPOCH 18 ...\n"
          ]
        },
        {
          "output_type": "stream",
          "name": "stdout",
          "text": [
            "2022-08-13 19:25:48.284959 EPOCH 18 ...\n"
          ]
        },
        {
          "output_type": "stream",
          "name": "stderr",
          "text": [
            "INFO:root:Training Accuracy = 0.997\n",
            "INFO:root:Validation Accuracy = 0.900\n"
          ]
        },
        {
          "output_type": "stream",
          "name": "stdout",
          "text": [
            "2022-08-13 19:25:48.981049 Training Accuracy = 0.997\n",
            "Training error = 0.015 \n",
            "2022-08-13 19:25:49.073990 Validation Accuracy = 0.900\n",
            "Validation error = 0.631\n",
            "\n"
          ]
        },
        {
          "output_type": "stream",
          "name": "stderr",
          "text": [
            "INFO:root:EPOCH 19 ...\n"
          ]
        },
        {
          "output_type": "stream",
          "name": "stdout",
          "text": [
            "2022-08-13 19:25:50.153785 EPOCH 19 ...\n"
          ]
        },
        {
          "output_type": "stream",
          "name": "stderr",
          "text": [
            "INFO:root:Training Accuracy = 0.996\n",
            "INFO:root:Validation Accuracy = 0.915\n"
          ]
        },
        {
          "output_type": "stream",
          "name": "stdout",
          "text": [
            "2022-08-13 19:25:50.847925 Training Accuracy = 0.996\n",
            "Training error = 0.013 \n",
            "2022-08-13 19:25:50.965195 Validation Accuracy = 0.915\n",
            "Validation error = 0.579\n",
            "\n"
          ]
        },
        {
          "output_type": "stream",
          "name": "stderr",
          "text": [
            "INFO:root:EPOCH 20 ...\n"
          ]
        },
        {
          "output_type": "stream",
          "name": "stdout",
          "text": [
            "2022-08-13 19:25:52.088591 EPOCH 20 ...\n"
          ]
        },
        {
          "output_type": "stream",
          "name": "stderr",
          "text": [
            "INFO:root:Training Accuracy = 0.998\n",
            "INFO:root:Validation Accuracy = 0.921\n"
          ]
        },
        {
          "output_type": "stream",
          "name": "stdout",
          "text": [
            "2022-08-13 19:25:52.776899 Training Accuracy = 0.998\n",
            "Training error = 0.008 \n",
            "2022-08-13 19:25:52.869015 Validation Accuracy = 0.921\n",
            "Validation error = 0.499\n",
            "\n"
          ]
        },
        {
          "output_type": "stream",
          "name": "stderr",
          "text": [
            "INFO:root:EPOCH 21 ...\n"
          ]
        },
        {
          "output_type": "stream",
          "name": "stdout",
          "text": [
            "2022-08-13 19:25:53.980763 EPOCH 21 ...\n"
          ]
        },
        {
          "output_type": "stream",
          "name": "stderr",
          "text": [
            "INFO:root:Training Accuracy = 0.997\n",
            "INFO:root:Validation Accuracy = 0.912\n"
          ]
        },
        {
          "output_type": "stream",
          "name": "stdout",
          "text": [
            "2022-08-13 19:25:54.661555 Training Accuracy = 0.997\n",
            "Training error = 0.010 \n",
            "2022-08-13 19:25:54.760644 Validation Accuracy = 0.912\n",
            "Validation error = 0.575\n",
            "\n"
          ]
        },
        {
          "output_type": "stream",
          "name": "stderr",
          "text": [
            "INFO:root:EPOCH 22 ...\n"
          ]
        },
        {
          "output_type": "stream",
          "name": "stdout",
          "text": [
            "2022-08-13 19:25:55.857176 EPOCH 22 ...\n"
          ]
        },
        {
          "output_type": "stream",
          "name": "stderr",
          "text": [
            "INFO:root:Training Accuracy = 0.995\n",
            "INFO:root:Validation Accuracy = 0.906\n"
          ]
        },
        {
          "output_type": "stream",
          "name": "stdout",
          "text": [
            "2022-08-13 19:25:56.563149 Training Accuracy = 0.995\n",
            "Training error = 0.016 \n",
            "2022-08-13 19:25:56.658138 Validation Accuracy = 0.906\n",
            "Validation error = 0.627\n",
            "\n"
          ]
        },
        {
          "output_type": "stream",
          "name": "stderr",
          "text": [
            "INFO:root:EPOCH 23 ...\n"
          ]
        },
        {
          "output_type": "stream",
          "name": "stdout",
          "text": [
            "2022-08-13 19:25:57.751132 EPOCH 23 ...\n"
          ]
        },
        {
          "output_type": "stream",
          "name": "stderr",
          "text": [
            "INFO:root:Training Accuracy = 0.996\n",
            "INFO:root:Validation Accuracy = 0.915\n"
          ]
        },
        {
          "output_type": "stream",
          "name": "stdout",
          "text": [
            "2022-08-13 19:25:58.445349 Training Accuracy = 0.996\n",
            "Training error = 0.013 \n",
            "2022-08-13 19:25:58.539050 Validation Accuracy = 0.915\n",
            "Validation error = 0.523\n",
            "\n"
          ]
        },
        {
          "output_type": "stream",
          "name": "stderr",
          "text": [
            "INFO:root:EPOCH 24 ...\n"
          ]
        },
        {
          "output_type": "stream",
          "name": "stdout",
          "text": [
            "2022-08-13 19:25:59.660450 EPOCH 24 ...\n"
          ]
        },
        {
          "output_type": "stream",
          "name": "stderr",
          "text": [
            "INFO:root:Training Accuracy = 0.994\n",
            "INFO:root:Validation Accuracy = 0.904\n"
          ]
        },
        {
          "output_type": "stream",
          "name": "stdout",
          "text": [
            "2022-08-13 19:26:00.343328 Training Accuracy = 0.994\n",
            "Training error = 0.020 \n",
            "2022-08-13 19:26:00.438838 Validation Accuracy = 0.904\n",
            "Validation error = 0.621\n",
            "\n"
          ]
        },
        {
          "output_type": "stream",
          "name": "stderr",
          "text": [
            "INFO:root:EPOCH 25 ...\n"
          ]
        },
        {
          "output_type": "stream",
          "name": "stdout",
          "text": [
            "2022-08-13 19:26:01.578933 EPOCH 25 ...\n"
          ]
        },
        {
          "output_type": "stream",
          "name": "stderr",
          "text": [
            "INFO:root:Training Accuracy = 0.994\n",
            "INFO:root:Validation Accuracy = 0.905\n"
          ]
        },
        {
          "output_type": "stream",
          "name": "stdout",
          "text": [
            "2022-08-13 19:26:02.270376 Training Accuracy = 0.994\n",
            "Training error = 0.020 \n",
            "2022-08-13 19:26:02.362527 Validation Accuracy = 0.905\n",
            "Validation error = 0.618\n",
            "\n"
          ]
        },
        {
          "output_type": "stream",
          "name": "stderr",
          "text": [
            "INFO:root:EPOCH 26 ...\n"
          ]
        },
        {
          "output_type": "stream",
          "name": "stdout",
          "text": [
            "2022-08-13 19:26:03.479913 EPOCH 26 ...\n"
          ]
        },
        {
          "output_type": "stream",
          "name": "stderr",
          "text": [
            "INFO:root:Training Accuracy = 0.999\n",
            "INFO:root:Validation Accuracy = 0.916\n"
          ]
        },
        {
          "output_type": "stream",
          "name": "stdout",
          "text": [
            "2022-08-13 19:26:04.167508 Training Accuracy = 0.999\n",
            "Training error = 0.003 \n",
            "2022-08-13 19:26:04.260582 Validation Accuracy = 0.916\n",
            "Validation error = 0.644\n",
            "\n"
          ]
        },
        {
          "output_type": "stream",
          "name": "stderr",
          "text": [
            "INFO:root:EPOCH 27 ...\n"
          ]
        },
        {
          "output_type": "stream",
          "name": "stdout",
          "text": [
            "2022-08-13 19:26:05.366445 EPOCH 27 ...\n"
          ]
        },
        {
          "output_type": "stream",
          "name": "stderr",
          "text": [
            "INFO:root:Training Accuracy = 0.999\n",
            "INFO:root:Validation Accuracy = 0.914\n"
          ]
        },
        {
          "output_type": "stream",
          "name": "stdout",
          "text": [
            "2022-08-13 19:26:06.066598 Training Accuracy = 0.999\n",
            "Training error = 0.004 \n",
            "2022-08-13 19:26:06.157931 Validation Accuracy = 0.914\n",
            "Validation error = 0.626\n",
            "\n"
          ]
        },
        {
          "output_type": "stream",
          "name": "stderr",
          "text": [
            "INFO:root:EPOCH 28 ...\n"
          ]
        },
        {
          "output_type": "stream",
          "name": "stdout",
          "text": [
            "2022-08-13 19:26:07.303537 EPOCH 28 ...\n"
          ]
        },
        {
          "output_type": "stream",
          "name": "stderr",
          "text": [
            "INFO:root:Training Accuracy = 1.000\n",
            "INFO:root:Validation Accuracy = 0.924\n"
          ]
        },
        {
          "output_type": "stream",
          "name": "stdout",
          "text": [
            "2022-08-13 19:26:07.994133 Training Accuracy = 1.000\n",
            "Training error = 0.002 \n",
            "2022-08-13 19:26:08.097058 Validation Accuracy = 0.924\n",
            "Validation error = 0.589\n",
            "\n"
          ]
        },
        {
          "output_type": "stream",
          "name": "stderr",
          "text": [
            "INFO:root:EPOCH 29 ...\n"
          ]
        },
        {
          "output_type": "stream",
          "name": "stdout",
          "text": [
            "2022-08-13 19:26:09.210766 EPOCH 29 ...\n"
          ]
        },
        {
          "output_type": "stream",
          "name": "stderr",
          "text": [
            "INFO:root:Training Accuracy = 0.999\n",
            "INFO:root:Validation Accuracy = 0.924\n"
          ]
        },
        {
          "output_type": "stream",
          "name": "stdout",
          "text": [
            "2022-08-13 19:26:09.893212 Training Accuracy = 0.999\n",
            "Training error = 0.002 \n",
            "2022-08-13 19:26:09.985955 Validation Accuracy = 0.924\n",
            "Validation error = 0.737\n",
            "\n"
          ]
        },
        {
          "output_type": "stream",
          "name": "stderr",
          "text": [
            "INFO:root:EPOCH 30 ...\n"
          ]
        },
        {
          "output_type": "stream",
          "name": "stdout",
          "text": [
            "2022-08-13 19:26:11.091763 EPOCH 30 ...\n"
          ]
        },
        {
          "output_type": "stream",
          "name": "stderr",
          "text": [
            "INFO:root:Training Accuracy = 0.995\n",
            "INFO:root:Validation Accuracy = 0.912\n"
          ]
        },
        {
          "output_type": "stream",
          "name": "stdout",
          "text": [
            "2022-08-13 19:26:11.761824 Training Accuracy = 0.995\n",
            "Training error = 0.014 \n",
            "2022-08-13 19:26:11.858595 Validation Accuracy = 0.912\n",
            "Validation error = 0.658\n",
            "\n"
          ]
        },
        {
          "output_type": "stream",
          "name": "stderr",
          "text": [
            "INFO:root:EPOCH 31 ...\n"
          ]
        },
        {
          "output_type": "stream",
          "name": "stdout",
          "text": [
            "2022-08-13 19:26:12.946009 EPOCH 31 ...\n"
          ]
        },
        {
          "output_type": "stream",
          "name": "stderr",
          "text": [
            "INFO:root:Training Accuracy = 0.995\n",
            "INFO:root:Validation Accuracy = 0.916\n"
          ]
        },
        {
          "output_type": "stream",
          "name": "stdout",
          "text": [
            "2022-08-13 19:26:13.630999 Training Accuracy = 0.995\n",
            "Training error = 0.019 \n",
            "2022-08-13 19:26:13.724674 Validation Accuracy = 0.916\n",
            "Validation error = 0.547\n",
            "\n"
          ]
        },
        {
          "output_type": "stream",
          "name": "stderr",
          "text": [
            "INFO:root:EPOCH 32 ...\n"
          ]
        },
        {
          "output_type": "stream",
          "name": "stdout",
          "text": [
            "2022-08-13 19:26:14.850973 EPOCH 32 ...\n"
          ]
        },
        {
          "output_type": "stream",
          "name": "stderr",
          "text": [
            "INFO:root:Training Accuracy = 0.999\n",
            "INFO:root:Validation Accuracy = 0.917\n"
          ]
        },
        {
          "output_type": "stream",
          "name": "stdout",
          "text": [
            "2022-08-13 19:26:15.548068 Training Accuracy = 0.999\n",
            "Training error = 0.006 \n",
            "2022-08-13 19:26:15.641981 Validation Accuracy = 0.917\n",
            "Validation error = 0.660\n",
            "\n"
          ]
        },
        {
          "output_type": "stream",
          "name": "stderr",
          "text": [
            "INFO:root:EPOCH 33 ...\n"
          ]
        },
        {
          "output_type": "stream",
          "name": "stdout",
          "text": [
            "2022-08-13 19:26:16.764497 EPOCH 33 ...\n"
          ]
        },
        {
          "output_type": "stream",
          "name": "stderr",
          "text": [
            "INFO:root:Training Accuracy = 0.999\n",
            "INFO:root:Validation Accuracy = 0.920\n"
          ]
        },
        {
          "output_type": "stream",
          "name": "stdout",
          "text": [
            "2022-08-13 19:26:17.466245 Training Accuracy = 0.999\n",
            "Training error = 0.005 \n",
            "2022-08-13 19:26:17.557596 Validation Accuracy = 0.920\n",
            "Validation error = 0.598\n",
            "\n"
          ]
        },
        {
          "output_type": "stream",
          "name": "stderr",
          "text": [
            "INFO:root:EPOCH 34 ...\n"
          ]
        },
        {
          "output_type": "stream",
          "name": "stdout",
          "text": [
            "2022-08-13 19:26:18.689739 EPOCH 34 ...\n"
          ]
        },
        {
          "output_type": "stream",
          "name": "stderr",
          "text": [
            "INFO:root:Training Accuracy = 0.999\n",
            "INFO:root:Validation Accuracy = 0.928\n"
          ]
        },
        {
          "output_type": "stream",
          "name": "stdout",
          "text": [
            "2022-08-13 19:26:19.376708 Training Accuracy = 0.999\n",
            "Training error = 0.002 \n",
            "2022-08-13 19:26:19.466393 Validation Accuracy = 0.928\n",
            "Validation error = 0.569\n",
            "\n"
          ]
        },
        {
          "output_type": "stream",
          "name": "stderr",
          "text": [
            "INFO:root:EPOCH 35 ...\n"
          ]
        },
        {
          "output_type": "stream",
          "name": "stdout",
          "text": [
            "2022-08-13 19:26:20.576938 EPOCH 35 ...\n"
          ]
        },
        {
          "output_type": "stream",
          "name": "stderr",
          "text": [
            "INFO:root:Training Accuracy = 1.000\n",
            "INFO:root:Validation Accuracy = 0.920\n"
          ]
        },
        {
          "output_type": "stream",
          "name": "stdout",
          "text": [
            "2022-08-13 19:26:21.266275 Training Accuracy = 1.000\n",
            "Training error = 0.001 \n",
            "2022-08-13 19:26:21.367009 Validation Accuracy = 0.920\n",
            "Validation error = 0.614\n",
            "\n"
          ]
        },
        {
          "output_type": "stream",
          "name": "stderr",
          "text": [
            "INFO:root:EPOCH 36 ...\n"
          ]
        },
        {
          "output_type": "stream",
          "name": "stdout",
          "text": [
            "2022-08-13 19:26:22.475732 EPOCH 36 ...\n"
          ]
        },
        {
          "output_type": "stream",
          "name": "stderr",
          "text": [
            "INFO:root:Training Accuracy = 0.998\n",
            "INFO:root:Validation Accuracy = 0.916\n"
          ]
        },
        {
          "output_type": "stream",
          "name": "stdout",
          "text": [
            "2022-08-13 19:26:23.157722 Training Accuracy = 0.998\n",
            "Training error = 0.007 \n",
            "2022-08-13 19:26:23.250537 Validation Accuracy = 0.916\n",
            "Validation error = 0.619\n",
            "\n"
          ]
        },
        {
          "output_type": "stream",
          "name": "stderr",
          "text": [
            "INFO:root:EPOCH 37 ...\n"
          ]
        },
        {
          "output_type": "stream",
          "name": "stdout",
          "text": [
            "2022-08-13 19:26:24.660556 EPOCH 37 ...\n"
          ]
        },
        {
          "output_type": "stream",
          "name": "stderr",
          "text": [
            "INFO:root:Training Accuracy = 0.992\n",
            "INFO:root:Validation Accuracy = 0.922\n"
          ]
        },
        {
          "output_type": "stream",
          "name": "stdout",
          "text": [
            "2022-08-13 19:26:25.538015 Training Accuracy = 0.992\n",
            "Training error = 0.025 \n",
            "2022-08-13 19:26:25.653876 Validation Accuracy = 0.922\n",
            "Validation error = 0.501\n",
            "\n"
          ]
        },
        {
          "output_type": "stream",
          "name": "stderr",
          "text": [
            "INFO:root:EPOCH 38 ...\n"
          ]
        },
        {
          "output_type": "stream",
          "name": "stdout",
          "text": [
            "2022-08-13 19:26:27.011806 EPOCH 38 ...\n"
          ]
        },
        {
          "output_type": "stream",
          "name": "stderr",
          "text": [
            "INFO:root:Training Accuracy = 0.998\n",
            "INFO:root:Validation Accuracy = 0.916\n"
          ]
        },
        {
          "output_type": "stream",
          "name": "stdout",
          "text": [
            "2022-08-13 19:26:27.757705 Training Accuracy = 0.998\n",
            "Training error = 0.010 \n",
            "2022-08-13 19:26:27.852301 Validation Accuracy = 0.916\n",
            "Validation error = 0.660\n",
            "\n"
          ]
        },
        {
          "output_type": "stream",
          "name": "stderr",
          "text": [
            "INFO:root:EPOCH 39 ...\n"
          ]
        },
        {
          "output_type": "stream",
          "name": "stdout",
          "text": [
            "2022-08-13 19:26:29.033186 EPOCH 39 ...\n"
          ]
        },
        {
          "output_type": "stream",
          "name": "stderr",
          "text": [
            "INFO:root:Training Accuracy = 1.000\n",
            "INFO:root:Validation Accuracy = 0.930\n"
          ]
        },
        {
          "output_type": "stream",
          "name": "stdout",
          "text": [
            "2022-08-13 19:26:29.898796 Training Accuracy = 1.000\n",
            "Training error = 0.001 \n",
            "2022-08-13 19:26:30.012278 Validation Accuracy = 0.930\n",
            "Validation error = 0.555\n",
            "\n"
          ]
        },
        {
          "output_type": "stream",
          "name": "stderr",
          "text": [
            "INFO:root:EPOCH 40 ...\n"
          ]
        },
        {
          "output_type": "stream",
          "name": "stdout",
          "text": [
            "2022-08-13 19:26:31.318374 EPOCH 40 ...\n"
          ]
        },
        {
          "output_type": "stream",
          "name": "stderr",
          "text": [
            "INFO:root:Training Accuracy = 0.997\n",
            "INFO:root:Validation Accuracy = 0.926\n"
          ]
        },
        {
          "output_type": "stream",
          "name": "stdout",
          "text": [
            "2022-08-13 19:26:32.212551 Training Accuracy = 0.997\n",
            "Training error = 0.010 \n",
            "2022-08-13 19:26:32.323659 Validation Accuracy = 0.926\n",
            "Validation error = 0.573\n",
            "\n"
          ]
        },
        {
          "output_type": "stream",
          "name": "stderr",
          "text": [
            "INFO:root:EPOCH 41 ...\n"
          ]
        },
        {
          "output_type": "stream",
          "name": "stdout",
          "text": [
            "2022-08-13 19:26:33.947737 EPOCH 41 ...\n"
          ]
        },
        {
          "output_type": "stream",
          "name": "stderr",
          "text": [
            "INFO:root:Training Accuracy = 0.991\n",
            "INFO:root:Validation Accuracy = 0.920\n"
          ]
        },
        {
          "output_type": "stream",
          "name": "stdout",
          "text": [
            "2022-08-13 19:26:35.095190 Training Accuracy = 0.991\n",
            "Training error = 0.026 \n",
            "2022-08-13 19:26:35.214561 Validation Accuracy = 0.920\n",
            "Validation error = 0.607\n",
            "\n"
          ]
        },
        {
          "output_type": "stream",
          "name": "stderr",
          "text": [
            "INFO:root:EPOCH 42 ...\n"
          ]
        },
        {
          "output_type": "stream",
          "name": "stdout",
          "text": [
            "2022-08-13 19:26:36.617513 EPOCH 42 ...\n"
          ]
        },
        {
          "output_type": "stream",
          "name": "stderr",
          "text": [
            "INFO:root:Training Accuracy = 1.000\n",
            "INFO:root:Validation Accuracy = 0.922\n"
          ]
        },
        {
          "output_type": "stream",
          "name": "stdout",
          "text": [
            "2022-08-13 19:26:37.509463 Training Accuracy = 1.000\n",
            "Training error = 0.001 \n",
            "2022-08-13 19:26:37.633388 Validation Accuracy = 0.922\n",
            "Validation error = 0.531\n",
            "\n",
            "Model saved\n"
          ]
        }
      ]
    },
    {
      "cell_type": "markdown",
      "source": [
        "# **Accuracy and Loss visualization**\n",
        "I want to visualize the decrease in loss and the increase in accuracy for the training and validation set."
      ],
      "metadata": {
        "id": "5406Z2jSWvtL"
      }
    },
    {
      "cell_type": "code",
      "source": [
        "def plot_curve(ax, data, label):\n",
        "    x = len(data)\n",
        "    y = np.arange(x)\n",
        "    ax.plot(y, data, label=label)\n",
        "    \n",
        "fig = plt.figure(figsize=(18, 6))\n",
        "ax=fig.add_subplot(1,2,1)\n",
        "plot_curve(ax, train_accuracy, \"Training\")\n",
        "plot_curve(ax, valid_accuracy, \"Validation\")\n",
        "ax.set_title('Accuracy')\n",
        "ax=fig.add_subplot(1,2,2) \n",
        "plot_curve(ax, train_loss, \"Training \")\n",
        "plot_curve(ax, valid_loss, \"Validation \")\n",
        "ax.set_title('Loss')\n",
        "plt.legend(['Training ','Validation'])\n",
        "# plt.ylabel('Error')\n",
        "# plt.xlabel('Epoch')\n",
        "#savefig(saved_figures_folder+\"lossAccuracy.png\")"
      ],
      "metadata": {
        "colab": {
          "base_uri": "https://localhost:8080/",
          "height": 720
        },
        "id": "nSqDiwYUnBnq",
        "outputId": "84cd95f9-158d-45ba-da6d-c8e49fdb3988"
      },
      "execution_count": 25,
      "outputs": [
        {
          "output_type": "error",
          "ename": "TypeError",
          "evalue": "ignored",
          "traceback": [
            "\u001b[0;31m---------------------------------------------------------------------------\u001b[0m",
            "\u001b[0;31mTypeError\u001b[0m                                 Traceback (most recent call last)",
            "\u001b[0;32m<ipython-input-25-4fd41bba0ecf>\u001b[0m in \u001b[0;36m<module>\u001b[0;34m()\u001b[0m\n\u001b[1;32m      6\u001b[0m \u001b[0mfig\u001b[0m \u001b[0;34m=\u001b[0m \u001b[0mplt\u001b[0m\u001b[0;34m.\u001b[0m\u001b[0mfigure\u001b[0m\u001b[0;34m(\u001b[0m\u001b[0mfigsize\u001b[0m\u001b[0;34m=\u001b[0m\u001b[0;34m(\u001b[0m\u001b[0;36m18\u001b[0m\u001b[0;34m,\u001b[0m \u001b[0;36m6\u001b[0m\u001b[0;34m)\u001b[0m\u001b[0;34m)\u001b[0m\u001b[0;34m\u001b[0m\u001b[0;34m\u001b[0m\u001b[0m\n\u001b[1;32m      7\u001b[0m \u001b[0max\u001b[0m\u001b[0;34m=\u001b[0m\u001b[0mfig\u001b[0m\u001b[0;34m.\u001b[0m\u001b[0madd_subplot\u001b[0m\u001b[0;34m(\u001b[0m\u001b[0;36m1\u001b[0m\u001b[0;34m,\u001b[0m\u001b[0;36m2\u001b[0m\u001b[0;34m,\u001b[0m\u001b[0;36m1\u001b[0m\u001b[0;34m)\u001b[0m\u001b[0;34m\u001b[0m\u001b[0;34m\u001b[0m\u001b[0m\n\u001b[0;32m----> 8\u001b[0;31m \u001b[0mplot_curve\u001b[0m\u001b[0;34m(\u001b[0m\u001b[0max\u001b[0m\u001b[0;34m,\u001b[0m \u001b[0mtrain_accuracy\u001b[0m\u001b[0;34m,\u001b[0m \u001b[0;34m\"Training\"\u001b[0m\u001b[0;34m)\u001b[0m\u001b[0;34m\u001b[0m\u001b[0;34m\u001b[0m\u001b[0m\n\u001b[0m\u001b[1;32m      9\u001b[0m \u001b[0mplot_curve\u001b[0m\u001b[0;34m(\u001b[0m\u001b[0max\u001b[0m\u001b[0;34m,\u001b[0m \u001b[0mvalid_accuracy\u001b[0m\u001b[0;34m,\u001b[0m \u001b[0;34m\"Validation\"\u001b[0m\u001b[0;34m)\u001b[0m\u001b[0;34m\u001b[0m\u001b[0;34m\u001b[0m\u001b[0m\n\u001b[1;32m     10\u001b[0m \u001b[0max\u001b[0m\u001b[0;34m.\u001b[0m\u001b[0mset_title\u001b[0m\u001b[0;34m(\u001b[0m\u001b[0;34m'Accuracy'\u001b[0m\u001b[0;34m)\u001b[0m\u001b[0;34m\u001b[0m\u001b[0;34m\u001b[0m\u001b[0m\n",
            "\u001b[0;32m<ipython-input-25-4fd41bba0ecf>\u001b[0m in \u001b[0;36mplot_curve\u001b[0;34m(ax, data, label)\u001b[0m\n\u001b[1;32m      1\u001b[0m \u001b[0;32mdef\u001b[0m \u001b[0mplot_curve\u001b[0m\u001b[0;34m(\u001b[0m\u001b[0max\u001b[0m\u001b[0;34m,\u001b[0m \u001b[0mdata\u001b[0m\u001b[0;34m,\u001b[0m \u001b[0mlabel\u001b[0m\u001b[0;34m)\u001b[0m\u001b[0;34m:\u001b[0m\u001b[0;34m\u001b[0m\u001b[0;34m\u001b[0m\u001b[0m\n\u001b[0;32m----> 2\u001b[0;31m     \u001b[0mx\u001b[0m \u001b[0;34m=\u001b[0m \u001b[0mlen\u001b[0m\u001b[0;34m(\u001b[0m\u001b[0mdata\u001b[0m\u001b[0;34m)\u001b[0m\u001b[0;34m\u001b[0m\u001b[0;34m\u001b[0m\u001b[0m\n\u001b[0m\u001b[1;32m      3\u001b[0m     \u001b[0my\u001b[0m \u001b[0;34m=\u001b[0m \u001b[0mnp\u001b[0m\u001b[0;34m.\u001b[0m\u001b[0marange\u001b[0m\u001b[0;34m(\u001b[0m\u001b[0mx\u001b[0m\u001b[0;34m)\u001b[0m\u001b[0;34m\u001b[0m\u001b[0;34m\u001b[0m\u001b[0m\n\u001b[1;32m      4\u001b[0m     \u001b[0max\u001b[0m\u001b[0;34m.\u001b[0m\u001b[0mplot\u001b[0m\u001b[0;34m(\u001b[0m\u001b[0my\u001b[0m\u001b[0;34m,\u001b[0m \u001b[0mdata\u001b[0m\u001b[0;34m,\u001b[0m \u001b[0mlabel\u001b[0m\u001b[0;34m=\u001b[0m\u001b[0mlabel\u001b[0m\u001b[0;34m)\u001b[0m\u001b[0;34m\u001b[0m\u001b[0;34m\u001b[0m\u001b[0m\n\u001b[1;32m      5\u001b[0m \u001b[0;34m\u001b[0m\u001b[0m\n",
            "\u001b[0;31mTypeError\u001b[0m: object of type 'numpy.float64' has no len()"
          ]
        },
        {
          "output_type": "display_data",
          "data": {
            "text/plain": [
              "<Figure size 1296x432 with 1 Axes>"
            ],
            "image/png": "[encoded data removed]"
          },
          "metadata": {}
        }
      ]
    },
    {
      "cell_type": "markdown",
      "source": [
        "# **Test the model**\n",
        "Once I was happy with my validation accuracy, I performed the final test on the test data."
      ],
      "metadata": {
        "id": "NGeCTwGLXw32"
      }
    },
    {
      "cell_type": "code",
      "source": [
        "with tf.compat.v1.Session() as sess:\n",
        "    saver.restore(sess, tf.train.latest_checkpoint('.'))\n",
        "\n",
        "    train_loss, train_accuracy = evaluate(X_train, y_train)\n",
        "    print(\"Accuracy Model On Train Images: {:.3f}\".format(train_accuracy))\n",
        "    \n",
        "    valid_loss, valid_accuracy = evaluate(X_valid, y_valid)\n",
        "    print(\"Accuracy Model On Valid Images: {:.3f}\".format(valid_accuracy))    \n",
        "    \n",
        "    test_loss, test_accuracy = evaluate(X_valid, y_valid)\n",
        "    print('Accuracy Model On Test Images: {:.3f}'.format(test_accuracy))\n",
        "     "
      ],
      "metadata": {
        "colab": {
          "base_uri": "https://localhost:8080/"
        },
        "id": "lL7uAWBaX3Uc",
        "outputId": "fcfe4cfc-0529-4a5d-a240-f0d560c913b9"
      },
      "execution_count": 26,
      "outputs": [
        {
          "output_type": "stream",
          "name": "stderr",
          "text": [
            "INFO:tensorflow:Restoring parameters from ./LeNet_Modul\n"
          ]
        },
        {
          "output_type": "stream",
          "name": "stdout",
          "text": [
            "Accuracy Model On Train Images: 1.000\n",
            "Accuracy Model On Valid Images: 0.922\n",
            "Accuracy Model On Test Images: 0.922\n"
          ]
        }
      ]
    }
  ],
  "metadata": {
    "accelerator": "GPU",
    "colab": {
      "collapsed_sections": [],
      "name": "Traffic_Sign_Classifier.ipynb",
      "provenance": []
    },
    "gpuClass": "standard",
    "kernelspec": {
      "display_name": "Python 3",
      "name": "python3"
    },
    "language_info": {
      "name": "python"
    }
  },
  "nbformat": 4,
  "nbformat_minor": 0
}